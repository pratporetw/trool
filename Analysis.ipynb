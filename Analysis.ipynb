{
 "cells": [
  {
   "cell_type": "code",
   "execution_count": 67,
   "metadata": {
    "scrolled": true
   },
   "outputs": [],
   "source": [
    "import os\n",
    "import pickle\n",
    "\n",
    "from datetime import datetime\n",
    "from numpy import corrcoef\n",
    "\n",
    "import matplotlib\n",
    "matplotlib.use('TkAgg')\n",
    "import matplotlib.pyplot as plt"
   ]
  },
  {
   "cell_type": "code",
   "execution_count": 23,
   "metadata": {
    "scrolled": true
   },
   "outputs": [],
   "source": [
    "TROOL_HOME = os.path.expanduser(\"~\") + \"/trool\"\n",
    "TROOL_DATA_DIR = TROOL_HOME + \"/data\"\n",
    "STRIKE_PRICE_RANGE = 5"
   ]
  },
  {
   "cell_type": "code",
   "execution_count": 5,
   "metadata": {
    "scrolled": true
   },
   "outputs": [],
   "source": [
    "date_today = datetime.today().date()"
   ]
  },
  {
   "cell_type": "code",
   "execution_count": 6,
   "metadata": {
    "scrolled": true
   },
   "outputs": [],
   "source": [
    "with open(TROOL_DATA_DIR + \"/NIFTY/{}/weekly\".format(date_today), \"rb\") as inf:\n",
    "    nf_weekly = pickle.load(inf)\n",
    "with open(TROOL_DATA_DIR + \"/NIFTY/{}/monthly\".format(date_today), \"rb\") as inf:\n",
    "    nf_monthly = pickle.load(inf)"
   ]
  },
  {
   "cell_type": "code",
   "execution_count": 7,
   "metadata": {
    "scrolled": true
   },
   "outputs": [],
   "source": [
    "def find_index_closest_to_value(value_list, value):\n",
    "    sorted_value_list = sorted(value_list)\n",
    "    closest = 0\n",
    "    for index in range(1, len(value_list)):\n",
    "        if abs(int(sorted_value_list[index]) - int(value)) < abs(int(sorted_value_list[closest]) - int(value)):\n",
    "            closest = index\n",
    "    return closest"
   ]
  },
  {
   "cell_type": "code",
   "execution_count": 68,
   "metadata": {
    "scrolled": true
   },
   "outputs": [],
   "source": [
    "def get_strike_price_range(oc):\n",
    "    close_strike_prices = set()\n",
    "    for ts in oc.keys():\n",
    "        tsoc = oc[ts][\"oc\"]\n",
    "        strike_price_index = find_index_closest_to_value(list(tsoc.keys()), float(oc[ts][\"value\"]))\n",
    "        strike_range = sorted(list(tsoc.keys()))[strike_price_index - STRIKE_PRICE_RANGE:strike_price_index + STRIKE_PRICE_RANGE + 1]\n",
    "        close_strike_prices.update(strike_range)\n",
    "    return close_strike_prices"
   ]
  },
  {
   "cell_type": "code",
   "execution_count": 99,
   "metadata": {
    "scrolled": true
   },
   "outputs": [],
   "source": [
    "def plot_shared_x_axis(x, y1, y1label, y2, y2label):\n",
    "    x = [datetime.strptime(ts, \"%Y-%m-%d %H:%M:%S\") for ts in x]\n",
    "    y1 = [float(val) for val in y1]\n",
    "    y2 = [float(val) for val in y2]\n",
    "    corr_coef = corrcoef(y1, y2)[0][1]\n",
    "    fig = plt.figure()\n",
    "#     fig.set_size_inches(20,10)\n",
    "    ax1 = fig.add_subplot(111)\n",
    "    ax1.plot(x, y1)\n",
    "    ax1.set_ylabel(y1label)\n",
    "    \n",
    "    ax2 = ax1.twinx()\n",
    "    ax2.plot(x, y2, 'r-')\n",
    "    ax2.set_ylabel(y2label, color='r')\n",
    "    for tl in ax2.get_yticklabels():\n",
    "        tl.set_color('r')\n",
    "    plt.xticks(rotation=90)\n",
    "    plt.title(\"{} - {}\\nCorr: {:.2f}\".format(y1label, y2label, corr_coef))\n",
    "    fig.show()"
   ]
  },
  {
   "cell_type": "code",
   "execution_count": 100,
   "metadata": {
    "scrolled": true
   },
   "outputs": [],
   "source": [
    "def plot_oc_chain_data(oc):\n",
    "    strike_price_range = get_strike_price_range(oc)\n",
    "#     print(\"Strike price range: {}\".format(strike_price_range))\n",
    "    index_values, india_vix = [], []\n",
    "    call_oi, call_change_in_oi, call_volume, call_iv = {}, {}, {}, {}\n",
    "    put_oi, put_change_in_oi, put_volume, put_iv = {}, {}, {}, {}\n",
    "    for ts in oc.keys():\n",
    "        index_values.append(oc[ts][\"value\"])\n",
    "        india_vix.append(oc[ts][\"india_vix\"])\n",
    "        tsoc = oc[ts][\"oc\"]\n",
    "        for strike_price in strike_price_range:\n",
    "            call_tsoc = tsoc[strike_price][\"Call\"]\n",
    "            call_oi[strike_price] = call_oi.get(strike_price, []) + [call_tsoc[\"OI\"]]\n",
    "            call_change_in_oi[strike_price] = call_change_in_oi.get(strike_price, []) + [call_tsoc[\"ChangeInOI\"]]\n",
    "            call_volume[strike_price] = call_volume.get(strike_price, []) + [call_tsoc[\"Volume\"]]\n",
    "            call_iv[strike_price] = call_iv.get(strike_price, []) + [call_tsoc[\"IV\"]]\n",
    "            \n",
    "            put_tsoc = tsoc[strike_price][\"Put\"]\n",
    "            put_oi[strike_price] = put_oi.get(strike_price, []) + [put_tsoc[\"OI\"]]\n",
    "            put_change_in_oi[strike_price] = put_change_in_oi.get(strike_price, []) + [put_tsoc[\"ChangeInOI\"]]\n",
    "            put_volume[strike_price] = put_volume.get(strike_price, []) + [put_tsoc[\"Volume\"]]\n",
    "            put_iv[strike_price] = put_iv.get(strike_price, []) + [put_tsoc[\"IV\"]]\n",
    "    index_len = len(index_values)\n",
    "    assert len(india_vix) == index_len\n",
    "    for var in [call_oi, call_change_in_oi, call_volume, call_iv, put_oi, put_change_in_oi, put_volume, put_iv]:\n",
    "        for strike_price in var.keys():\n",
    "            assert len(var[strike_price]) == index_len\n",
    "            \n",
    "    timestampts =  list(oc.keys())\n",
    "    plot_shared_x_axis(timestampts, index_values, \"index\", india_vix, \"india_vix\")\n",
    "    \n"
   ]
  },
  {
   "cell_type": "code",
   "execution_count": 101,
   "metadata": {
    "scrolled": false
   },
   "outputs": [
    {
     "data": {
      "image/png": "[encoded data removed]",
      "text/plain": [
       "<Figure size 432x288 with 2 Axes>"
      ]
     },
     "metadata": {
      "needs_background": "light"
     },
     "output_type": "display_data"
    }
   ],
   "source": [
    "plot_oc_chain_data(nf_weekly)"
   ]
  },
  {
   "cell_type": "code",
   "execution_count": null,
   "metadata": {},
   "outputs": [],
   "source": []
  },
  {
   "cell_type": "code",
   "execution_count": null,
   "metadata": {},
   "outputs": [],
   "source": []
  },
  {
   "cell_type": "markdown",
   "metadata": {},
   "source": [
    "### Weekly Analysis"
   ]
  },
  {
   "cell_type": "code",
   "execution_count": null,
   "metadata": {
    "scrolled": true
   },
   "outputs": [],
   "source": [
    "for date"
   ]
  },
  {
   "cell_type": "markdown",
   "metadata": {},
   "source": [
    "### Monthly Analysis"
   ]
  },
  {
   "cell_type": "code",
   "execution_count": null,
   "metadata": {
    "scrolled": true
   },
   "outputs": [],
   "source": []
  }
 ],
 "metadata": {
  "kernelspec": {
   "display_name": "Python 3",
   "language": "python",
   "name": "python3"
  },
  "language_info": {
   "codemirror_mode": {
    "name": "ipython",
    "version": 3
   },
   "file_extension": ".py",
   "mimetype": "text/x-python",
   "name": "python",
   "nbconvert_exporter": "python",
   "pygments_lexer": "ipython3",
   "version": "3.7.3"
  }
 },
 "nbformat": 4,
 "nbformat_minor": 2
}
